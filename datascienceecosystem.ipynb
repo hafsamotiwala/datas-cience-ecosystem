{
 "cells": [
  {
   "cell_type": "markdown",
   "id": "97ee25c7-4167-4cef-8896-a0c6e6c05aa9",
   "metadata": {},
   "source": [
    "# Data Science Tools And Ecosystem"
   ]
  },
  {
   "cell_type": "markdown",
   "id": "832a58d9-3182-4d4e-892d-b9052a2b22ba",
   "metadata": {},
   "source": [
    "In this notebook data science tools and ecosystem are summarized"
   ]
  },
  {
   "cell_type": "markdown",
   "id": "bb94e51c-8cb3-4691-abd6-011a578c5e45",
   "metadata": {},
   "source": [
    " Some of the key takeaways from the course:\n",
    " \n",
    " **Objectives**\n",
    " *  Data Science languages\n",
    " *  Data Science enviornments\n",
    " *  Data science libraries \n",
    " *  evaluating airthmetic expressions"
   ]
  },
  {
   "cell_type": "markdown",
   "id": "d998a075-bd48-43de-af5f-f0ae57e73a85",
   "metadata": {},
   "source": [
    "some of the popular languages that data scientists use are \n",
    "1. Python\n",
    "2. R\n",
    "3. SQL"
   ]
  },
  {
   "cell_type": "markdown",
   "id": "3999dde2-ca9f-45a3-8d9d-4bc00a38dc55",
   "metadata": {},
   "source": [
    "Some of the commonly used libraries used by Data Scientists include:\n",
    "1. NumPy\n",
    "2. Pandas\n",
    "3. Matplotlib"
   ]
  },
  {
   "cell_type": "markdown",
   "id": "431dde04-8f2d-4ade-97a3-be5a96c24788",
   "metadata": {},
   "source": [
    "|Data Science Tools|\n",
    "|------------------|\n",
    "|Rstudio|\n",
    "|jupyter notebook|\n",
    "|visual studio code|"
   ]
  },
  {
   "cell_type": "markdown",
   "id": "b1b8ed9e-8436-4152-ac5e-ba840f05037f",
   "metadata": {},
   "source": [
    "### below are a few examples of evaluating airthmetic expressions in Python "
   ]
  },
  {
   "cell_type": "code",
   "execution_count": 23,
   "id": "62661e36-0bff-4758-9011-55fa116a0879",
   "metadata": {},
   "outputs": [
    {
     "data": {
      "text/plain": [
       "17"
      ]
     },
     "execution_count": 23,
     "metadata": {},
     "output_type": "execute_result"
    }
   ],
   "source": [
    "(3*4)+5"
   ]
  },
  {
   "cell_type": "code",
   "execution_count": 25,
   "id": "23608784-2078-460c-9657-348956088a47",
   "metadata": {},
   "outputs": [],
   "source": [
    "#This will convert 200 minutes to hours by diving by 60"
   ]
  },
  {
   "cell_type": "code",
   "execution_count": 27,
   "id": "947e4673-f999-4f1c-a155-16f6b5e9399e",
   "metadata": {},
   "outputs": [
    {
     "name": "stdout",
     "output_type": "stream",
     "text": [
      "3.3333333333333335\n"
     ]
    }
   ],
   "source": [
    "hours=200/60\n",
    "print(hours)"
   ]
  },
  {
   "cell_type": "markdown",
   "id": "60192a8b-84cb-4f98-be38-667fc2479ef8",
   "metadata": {},
   "source": [
    "##author\n",
    "\n",
    "HAFSA"
   ]
  }
 ],
 "metadata": {
  "kernelspec": {
   "display_name": "Python 3 (ipykernel)",
   "language": "python",
   "name": "python3"
  },
  "language_info": {
   "codemirror_mode": {
    "name": "ipython",
    "version": 3
   },
   "file_extension": ".py",
   "mimetype": "text/x-python",
   "name": "python",
   "nbconvert_exporter": "python",
   "pygments_lexer": "ipython3",
   "version": "3.12.7"
  }
 },
 "nbformat": 4,
 "nbformat_minor": 5
}
